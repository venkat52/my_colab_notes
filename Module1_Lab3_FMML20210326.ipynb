{
  "nbformat": 4,
  "nbformat_minor": 0,
  "metadata": {
    "colab": {
      "name": "Module1_Lab3_FMML20210326.ipynb",
      "provenance": [],
      "collapsed_sections": [],
      "include_colab_link": true
    },
    "kernelspec": {
      "name": "python3",
      "display_name": "Python 3"
    },
    "language_info": {
      "name": "python"
    }
  },
  "cells": [
    {
      "cell_type": "markdown",
      "metadata": {
        "id": "view-in-github",
        "colab_type": "text"
      },
      "source": [
        "<a href=\"https://colab.research.google.com/github/venkat52/my_colab_notes/blob/main/Module1_Lab3_FMML20210326.ipynb\" target=\"_parent\"><img src=\"https://colab.research.google.com/assets/colab-badge.svg\" alt=\"Open In Colab\"/></a>"
      ]
    },
    {
      "cell_type": "markdown",
      "metadata": {
        "id": "w3yfry25JgZK"
      },
      "source": [
        "# Data augmentation\n",
        "\n",
        "FMML Module 1, Lab 3<br>\n",
        " Module Coordinator: Thrupthi Ann John thrupthi.ann@research.iiit.ac.in <br>\n",
        " Release date: 18 October 2021 <br>\n",
        "\n",
        " In this lab, we will see how augmentation of data samples help in improving the machine learning performance"
      ]
    },
    {
      "cell_type": "code",
      "metadata": {
        "id": "xZU8_elooqP0"
      },
      "source": [
        "import numpy as np\n",
        "import matplotlib.pyplot as plt\n",
        "from keras.datasets import mnist\n",
        "# set randomseed\n",
        "rng = np.random.default_rng(seed=42)\n",
        "from sklearn.utils.extmath import cartesian\n",
        "from skimage.transform import rotate, AffineTransform, warp\n",
        "import math"
      ],
      "execution_count": 128,
      "outputs": []
    },
    {
      "cell_type": "markdown",
      "metadata": {
        "id": "T5pHYogSMHiE"
      },
      "source": [
        "Augmentation is useful when we have less training data available. Augmentation allows us to 'create' a larger dataset programatically. \n",
        "\n",
        "For this lab we will use a subset of MNIST that is very small, to better understand the effect of augmentation. "
      ]
    },
    {
      "cell_type": "code",
      "metadata": {
        "id": "gJvmWJ58ovx5"
      },
      "source": [
        "#loading the dataset\n",
        "(train_X, train_y), (test_X, test_y) = mnist.load_data()\n",
        "train_X = train_X/255\n",
        "test_X = test_X/255\n",
        "\n",
        "train_X = train_X[::1200,:,:].copy() # subsample. Otherwise it will take too long!\n",
        "train_y = train_y[::1200].copy() # do the same to the labels\n"
      ],
      "execution_count": 129,
      "outputs": []
    },
    {
      "cell_type": "markdown",
      "metadata": {
        "id": "8XamH6z1Rt7S"
      },
      "source": [
        "Let us borrow a few functions from the previous labs:"
      ]
    },
    {
      "cell_type": "code",
      "metadata": {
        "id": "Zk2W5_3BRLMS"
      },
      "source": [
        "def NN1(traindata, trainlabel, query):\n",
        "  diff  = traindata - query  # find the difference between features. Numpy automatically takes care of the size here \n",
        "  sq = diff*diff # square the differences\n",
        "  dist = sq.sum(1) # add up the squares\n",
        "  label = trainlabel[np.argmin(dist)] # our predicted label is the label of the training data which has the least distance from the query\n",
        "  return label\n",
        "\n",
        "def NN(traindata, trainlabel, testdata):\n",
        "  # we will run nearest neighbour for each sample in the test data \n",
        "  # and collect the predicted classes in an array using list comprehension\n",
        "  traindata = traindata.reshape(-1, 28*28)\n",
        "  testdata = testdata.reshape(-1,28*28)\n",
        "  predlabel = np.array([NN1(traindata, trainlabel, i) for i in testdata])\n",
        "  return predlabel\n",
        "\n",
        "def Accuracy(gtlabel, predlabel):\n",
        "  assert len(gtlabel)==len(predlabel), \"Length of the groundtruth labels and predicted labels should be the same\"\n",
        "  correct = (gtlabel==predlabel).sum() # count the number of times the groundtruth label is equal to the predicted label.\n",
        "  return correct/len(gtlabel)"
      ],
      "execution_count": 130,
      "outputs": []
    },
    {
      "cell_type": "markdown",
      "metadata": {
        "id": "eGiA3LmDSJZo"
      },
      "source": [
        "In this lab, we will use the image pixels themselves as features, instead of extracting features. Each image has 28*28 pixels, so we will flatten them to 784 pixels to use as features. Note that this is very compute intensive and will take a long time.<br>\n",
        "\n",
        "Let us check the baseline accuracy on the test set without any augmentations. We hope that adding augmentations will help us to get better results."
      ]
    },
    {
      "cell_type": "code",
      "metadata": {
        "id": "4tQvnoasRNEV",
        "colab": {
          "base_uri": "https://localhost:8080/"
        },
        "outputId": "dac0961b-dbb6-48bd-da4b-44f5b18a173b"
      },
      "source": [
        "testpred = NN(train_X, train_y, test_X)\n",
        "print('Baseline accuracy without augmentation is ', Accuracy(test_y, testpred))"
      ],
      "execution_count": 131,
      "outputs": [
        {
          "output_type": "stream",
          "name": "stdout",
          "text": [
            "Baseline accuracy without augmentation is  0.6472\n"
          ]
        }
      ]
    },
    {
      "cell_type": "markdown",
      "metadata": {
        "id": "ZfkcMfhIZQ7U"
      },
      "source": [
        "Let us try to improve this accuracy using augmentations. When we create augmentations, we have to make sure that the changes reflect what will naturally occur in the dataset. For example, we should not add colour to our samples as an augmentation because they do not naturally occur. We should not also flip the images in MNIST, because flipped images have different meanings for digits. \n",
        "\n",
        "### Augmentation 1: rotation\n",
        "\n",
        "Let us try rotating the image a little. We will use skimage library for this. "
      ]
    },
    {
      "cell_type": "code",
      "metadata": {
        "id": "z5WolJ9fZE7L",
        "colab": {
          "base_uri": "https://localhost:8080/",
          "height": 530
        },
        "outputId": "3ac0aa14-c4a3-47d3-fc14-cfd9e4a47cb1"
      },
      "source": [
        "plt.imshow(train_X[2], cmap='gray')\n",
        "plt.show()\n",
        "plt.imshow(rotate(train_X[2],45), cmap='gray')"
      ],
      "execution_count": 132,
      "outputs": [
        {
          "output_type": "display_data",
          "data": {
            "image/png": "[encoded data removed]",
            "text/plain": [
              "<Figure size 432x288 with 1 Axes>"
            ]
          },
          "metadata": {
            "needs_background": "light"
          }
        },
        {
          "output_type": "execute_result",
          "data": {
            "text/plain": [
              "<matplotlib.image.AxesImage at 0x7fbdfec5c6d0>"
            ]
          },
          "metadata": {},
          "execution_count": 132
        },
        {
          "output_type": "display_data",
          "data": {
            "image/png": "[encoded data removed]",
            "text/plain": [
              "<Figure size 432x288 with 1 Axes>"
            ]
          },
          "metadata": {
            "needs_background": "light"
          }
        }
      ]
    },
    {
      "cell_type": "markdown",
      "metadata": {
        "id": "KE33Yxgggu0c"
      },
      "source": [
        "After rotating, the the class of the image is still the same. Let us make a function to rotate multiple images by random angles. We want a slightly different image every time we run this function. So, we generate a random number between 0 and 1 and change it so that it lies between -constraint/2 and +constraint/2"
      ]
    },
    {
      "cell_type": "code",
      "metadata": {
        "id": "vyM7pUV7Reze"
      },
      "source": [
        "def augRotate(sample, angleconstraint):\n",
        "  if angleconstraint==0:\n",
        "    return sample\n",
        "  if len(sample.shape)==2:\n",
        "    sample = np.expand_dims(sample, 0)  # make sure the sample is 3 dimensional\n",
        "  angle = rng.random(len(sample)) # generate random numbers for angles\n",
        "  angle = (angle-0.5)*angleconstraint # make the random angle constrained\n",
        "  nsample = sample.copy() # preallocate the augmented array to make it faster\n",
        "  for ii in range(len(sample)):\n",
        "    nsample[ii] = rotate(sample[ii], angle[ii])\n",
        "  return np.squeeze(nsample) # take care if the input had only one sample."
      ],
      "execution_count": 5,
      "outputs": []
    },
    {
      "cell_type": "markdown",
      "metadata": {
        "id": "kDk-N5VNjar9"
      },
      "source": [
        "This function returns a slightly different image each time we call it. So we can increase the number of images in the sample by any multiple. "
      ]
    },
    {
      "cell_type": "code",
      "metadata": {
        "id": "Vw3O9zGFgI8K",
        "colab": {
          "base_uri": "https://localhost:8080/",
          "height": 414
        },
        "outputId": "d516b411-e647-4c71-b048-33da5e1cb943"
      },
      "source": [
        "sample = train_X[20]\n",
        "angleconstraint = 70\n",
        "# show the original image\n",
        "plt.imshow(sample, cmap='gray')\n",
        "plt.show()\n",
        "plt.subplot(1,3,1)\n",
        "plt.imshow(augRotate(sample, angleconstraint), cmap='gray') # show an augmented image\n",
        "plt.subplot(1,3,2)\n",
        "plt.imshow(augRotate(sample, angleconstraint), cmap='gray') # show another augmented image from the same sample\n",
        "plt.subplot(1,3,3)\n",
        "plt.imshow(augRotate(sample, angleconstraint), cmap='gray') # one more image from the same sample"
      ],
      "execution_count": null,
      "outputs": [
        {
          "output_type": "display_data",
          "data": {
            "image/png": "[encoded data removed]",
            "text/plain": [
              "<Figure size 432x288 with 1 Axes>"
            ]
          },
          "metadata": {
            "needs_background": "light"
          }
        },
        {
          "output_type": "execute_result",
          "data": {
            "text/plain": [
              "<matplotlib.image.AxesImage at 0x7fca9be55850>"
            ]
          },
          "metadata": {},
          "execution_count": 11
        },
        {
          "output_type": "display_data",
          "data": {
            "image/png": "[encoded data removed]",
            "text/plain": [
              "<Figure size 432x288 with 3 Axes>"
            ]
          },
          "metadata": {
            "needs_background": "light"
          }
        }
      ]
    },
    {
      "cell_type": "markdown",
      "metadata": {
        "id": "ytv3NxF-kgxN"
      },
      "source": [
        "Let us augment the whole dataset and see if this improves the test accuracy"
      ]
    },
    {
      "cell_type": "code",
      "metadata": {
        "id": "iNzNAoDBkRzj",
        "colab": {
          "base_uri": "https://localhost:8080/"
        },
        "outputId": "15c078d4-cd8d-4e40-c135-80aae6d2b4a1"
      },
      "source": [
        "# hyperparameters\n",
        "angleconstraint = 60\n",
        "naugmentations = 5\n",
        "\n",
        "# augment\n",
        "augdata = train_X # we include the original images also in the augmented dataset\n",
        "auglabel = train_y\n",
        "for ii in range(naugmentations):\n",
        "  augdata = np.concatenate((augdata, augRotate(train_X, angleconstraint))) # concatenate the augmented data to the set\n",
        "  auglabel = np.concatenate((auglabel, train_y))  # the labels don't change when we augment\n",
        "\n",
        "# check the test accuracy\n",
        "testpred = NN(augdata, auglabel, test_X)\n",
        "print('Accuracy after rotation augmentation is ', Accuracy(test_y, testpred))"
      ],
      "execution_count": null,
      "outputs": [
        {
          "output_type": "stream",
          "name": "stdout",
          "text": [
            "Accuracy after rotation augmentation is  0.6616\n"
          ]
        }
      ]
    },
    {
      "cell_type": "markdown",
      "metadata": {
        "id": "E88Nt9s1p5R6"
      },
      "source": [
        "The angle constraint is a hyperparameter which we have to tune using a validation set. (Here we are not doing that for time constraints). Let us try a grid search to find the best angle constraint."
      ]
    },
    {
      "cell_type": "code",
      "metadata": {
        "id": "aiaFRLREmGp6",
        "colab": {
          "base_uri": "https://localhost:8080/"
        },
        "outputId": "5bdf8aa2-0378-46cc-c689-5ee5f398612a"
      },
      "source": [
        "angleconstraints = [0,10,20,30,40,50,60,70,80,90] # the values we want to test\n",
        "accuracies = np.zeros(len(angleconstraints), dtype=np.float) # we will save the values here\n",
        "\n",
        "for ii in range(len(angleconstraints)):\n",
        "  # create the augmented dataset\n",
        "  augdata = train_X # we include the original images also in the augmented dataset\n",
        "  auglabel = train_y\n",
        "  for jj in range(naugmentations):\n",
        "    augdata = np.concatenate((augdata, augRotate(train_X, angleconstraints[ii]))) # concatenate the augmented data to the set\n",
        "    auglabel = np.concatenate((auglabel, train_y))  # the labels don't change when we augment\n",
        "\n",
        "  # check the test accuracy\n",
        "  testpred = NN(augdata, auglabel, test_X)\n",
        "  accuracies[ii] = Accuracy(test_y, testpred)\n",
        "  print('Accuracy after rotation augmentation constrained by ',angleconstraints[ii], ' is ', accuracies[ii], flush=True)"
      ],
      "execution_count": null,
      "outputs": [
        {
          "output_type": "stream",
          "name": "stdout",
          "text": [
            "Accuracy after rotation augmentation constrained by  0  is  0.6472\n",
            "Accuracy after rotation augmentation constrained by  10  is  0.6727\n",
            "Accuracy after rotation augmentation constrained by  20  is  0.673\n",
            "Accuracy after rotation augmentation constrained by  30  is  0.6737\n",
            "Accuracy after rotation augmentation constrained by  40  is  0.6731\n",
            "Accuracy after rotation augmentation constrained by  50  is  0.6701\n",
            "Accuracy after rotation augmentation constrained by  60  is  0.6675\n",
            "Accuracy after rotation augmentation constrained by  70  is  0.661\n",
            "Accuracy after rotation augmentation constrained by  80  is  0.6462\n",
            "Accuracy after rotation augmentation constrained by  90  is  0.6469\n"
          ]
        }
      ]
    },
    {
      "cell_type": "markdown",
      "metadata": {
        "id": "2oVDRYP2rxob"
      },
      "source": [
        "Let us see the best value for angle constraint: (Ideally this should be done on validation set, not test set)"
      ]
    },
    {
      "cell_type": "code",
      "metadata": {
        "id": "LqthJa_pmMHz",
        "colab": {
          "base_uri": "https://localhost:8080/",
          "height": 313
        },
        "outputId": "9e70252b-230f-4a57-e4ca-6a09a07cc9ee"
      },
      "source": [
        "fig = plt.figure()\n",
        "ax = fig.add_axes([0.1, 0.1, 0.8, 0.8]) # main axes\n",
        "# plot the variation of accuracy\n",
        "ax.plot(angleconstraints, accuracies)\n",
        "ax.set_xlabel('angle')\n",
        "ax.set_ylabel('accuracy')\n",
        "# plot the maximum accuracy\n",
        "maxind = np.argmax(accuracies)\n",
        "plt.scatter(angleconstraints[maxind], accuracies[maxind], c='red')"
      ],
      "execution_count": null,
      "outputs": [
        {
          "output_type": "execute_result",
          "data": {
            "text/plain": [
              "<matplotlib.collections.PathCollection at 0x7fca9bd20850>"
            ]
          },
          "metadata": {},
          "execution_count": 14
        },
        {
          "output_type": "display_data",
          "data": {
            "image/png": "[encoded data removed]",
            "text/plain": [
              "<Figure size 432x288 with 1 Axes>"
            ]
          },
          "metadata": {
            "needs_background": "light"
          }
        }
      ]
    },
    {
      "cell_type": "markdown",
      "metadata": {
        "id": "eJ8YuVfCuGTj"
      },
      "source": [
        "Let us try one more augmentation: shear. Here is what this looks like:"
      ]
    },
    {
      "cell_type": "code",
      "metadata": {
        "id": "pMiw46NLwssK"
      },
      "source": [
        "def shear(sample, amount):\n",
        "  tform = AffineTransform(shear = amount) # create the shear transform\n",
        "  img = warp(sample, tform) # apply the shear\n",
        "  # this makes the digit off-center. Since all the images in the test set are centralized, we will do the same here\n",
        "  col = img.sum(0).nonzero()[0]\n",
        "  row = img.sum(1).nonzero()[0]\n",
        "  if len(col)>0 and len(row)>0:\n",
        "    xshift = int(sample.shape[0]/2 - (row[0]+row[-1])/2)\n",
        "    yshift = int(sample.shape[1]/2 - (col[0]+col[-1])/2)\n",
        "    img = np.roll(img, (xshift, yshift),(0,1))\n",
        "  return img"
      ],
      "execution_count": 15,
      "outputs": []
    },
    {
      "cell_type": "code",
      "metadata": {
        "id": "4_u_EYpmnABK",
        "colab": {
          "base_uri": "https://localhost:8080/",
          "height": 530
        },
        "outputId": "bf1cd134-b755-42a6-8c5e-dd8052771168"
      },
      "source": [
        "sample = train_X[2]\n",
        "plt.imshow(sample, cmap='gray')\n",
        "plt.show()\n",
        "\n",
        "# apply shear\n",
        "plt.imshow(shear(sample, 0.4), cmap='gray')"
      ],
      "execution_count": null,
      "outputs": [
        {
          "output_type": "display_data",
          "data": {
            "image/png": "[encoded data removed]",
            "text/plain": [
              "<Figure size 432x288 with 1 Axes>"
            ]
          },
          "metadata": {
            "needs_background": "light"
          }
        },
        {
          "output_type": "execute_result",
          "data": {
            "text/plain": [
              "<matplotlib.image.AxesImage at 0x7fca9bc6bf90>"
            ]
          },
          "metadata": {},
          "execution_count": 16
        },
        {
          "output_type": "display_data",
          "data": {
            "image/png": "[encoded data removed]",
            "text/plain": [
              "<Figure size 432x288 with 1 Axes>"
            ]
          },
          "metadata": {
            "needs_background": "light"
          }
        }
      ]
    },
    {
      "cell_type": "markdown",
      "metadata": {
        "id": "lGnWMoyM2pK4"
      },
      "source": [
        "Create an augmentation function which applies a random shear according to the constraint we provide:"
      ]
    },
    {
      "cell_type": "code",
      "metadata": {
        "id": "-qLDJyGytwP5"
      },
      "source": [
        "def augShear(sample, shearconstraint):\n",
        "  if shearconstraint==0:\n",
        "    return sample\n",
        "  if len(sample.shape)==2:\n",
        "    sample = np.expand_dims(sample, 0)  # make sure the sample is 3 dimensional\n",
        "  amt = rng.random(len(sample)) # generate random numbers for shear\n",
        "  amt = (amt-0.5)*shearconstraint # make the random shear constrained\n",
        "  nsample = sample.copy() # preallocate the augmented array to make it faster\n",
        "  for ii in range(len(sample)):\n",
        "    nsample[ii] = shear(sample[ii], amt[ii])\n",
        "  return np.squeeze(nsample) # take care if the input had only one sample."
      ],
      "execution_count": 6,
      "outputs": []
    },
    {
      "cell_type": "markdown",
      "metadata": {
        "id": "s6lQcWW93suJ"
      },
      "source": [
        "Let us do a grid search to find the best shear constraint."
      ]
    },
    {
      "cell_type": "code",
      "metadata": {
        "id": "l_wrqPkrzBb_",
        "colab": {
          "base_uri": "https://localhost:8080/"
        },
        "outputId": "aaa492ed-b9ab-46c5-d17e-1f92fb8a82b1"
      },
      "source": [
        "shearconstraints = [0, 0.2,0.4,0.6,0.8,1.0,1.2,1.4,1.6,1.8,2.0] # the values we want to test\n",
        "accuracies = np.zeros(len(shearconstraints), dtype=np.float) # we will save the values here\n",
        "\n",
        "for ii in range(len(shearconstraints)):\n",
        "  # create the augmented dataset\n",
        "  augdata = train_X # we include the original images also in the augmented dataset\n",
        "  auglabel = train_y\n",
        "  for jj in range(naugmentations):\n",
        "    augdata = np.concatenate((augdata, augShear(train_X, shearconstraints[ii]))) # concatenate the augmented data to the set\n",
        "    auglabel = np.concatenate((auglabel, train_y))  # the labels don't change when we augment\n",
        "\n",
        "  # check the test accuracy\n",
        "  testpred = NN(augdata, auglabel, test_X)\n",
        "  accuracies[ii] = Accuracy(test_y, testpred)\n",
        "  print('Accuracy after shear augmentation constrained by ',shearconstraints[ii], ' is ', accuracies[ii], flush=True)"
      ],
      "execution_count": null,
      "outputs": [
        {
          "output_type": "stream",
          "name": "stdout",
          "text": [
            "Accuracy after shear augmentation constrained by  0  is  0.6472\n",
            "Accuracy after shear augmentation constrained by  0.2  is  0.6147\n",
            "Accuracy after shear augmentation constrained by  0.4  is  0.632\n",
            "Accuracy after shear augmentation constrained by  0.6  is  0.6351\n",
            "Accuracy after shear augmentation constrained by  0.8  is  0.6636\n",
            "Accuracy after shear augmentation constrained by  1.0  is  0.6652\n",
            "Accuracy after shear augmentation constrained by  1.2  is  0.6495\n",
            "Accuracy after shear augmentation constrained by  1.4  is  0.6181\n",
            "Accuracy after shear augmentation constrained by  1.6  is  0.6323\n",
            "Accuracy after shear augmentation constrained by  1.8  is  0.6432\n",
            "Accuracy after shear augmentation constrained by  2.0  is  0.6277\n"
          ]
        }
      ]
    },
    {
      "cell_type": "code",
      "metadata": {
        "id": "EKaH-YR-zVnA",
        "colab": {
          "base_uri": "https://localhost:8080/",
          "height": 309
        },
        "outputId": "4207a139-6ba0-42d7-d533-599ea2452277"
      },
      "source": [
        "fig = plt.figure()\n",
        "ax = fig.add_axes([0.1, 0.1, 0.8, 0.8]) # main axes\n",
        "# plot the variation of accuracy\n",
        "ax.plot(shearconstraints, accuracies)\n",
        "ax.set_xlabel('angle')\n",
        "ax.set_ylabel('accuracy')\n",
        "# plot the maximum accuracy\n",
        "maxind = np.argmax(accuracies)\n",
        "plt.scatter(shearconstraints[maxind], accuracies[maxind], c='red')"
      ],
      "execution_count": null,
      "outputs": [
        {
          "output_type": "execute_result",
          "data": {
            "text/plain": [
              "<matplotlib.collections.PathCollection at 0x7fca9bc02310>"
            ]
          },
          "metadata": {},
          "execution_count": 19
        },
        {
          "output_type": "display_data",
          "data": {
            "image/png": "[encoded data removed]",
            "text/plain": [
              "<Figure size 432x288 with 1 Axes>"
            ]
          },
          "metadata": {
            "needs_background": "light"
          }
        }
      ]
    },
    {
      "cell_type": "markdown",
      "metadata": {
        "id": "ccfdbRcQ7Zgg"
      },
      "source": [
        "We can do multiple augmentations at the same time. Here is a function to do both shear and rotation to the sample. In this case, we will have two hyperparameters. "
      ]
    },
    {
      "cell_type": "code",
      "metadata": {
        "id": "sh8S_Pxa0XCv"
      },
      "source": [
        "def augRotateShear(sample, angleconstraint, shearconstraint):\n",
        "  if len(sample.shape)==2:\n",
        "    sample = np.expand_dims(sample, 0)  # make sure the sample is 3 dimensional\n",
        "  amt = rng.random(len(sample)) # generate random numbers for shear\n",
        "  amt = (amt-0.5)*shearconstraint # make the random shear constrained\n",
        "  angle = rng.random(len(sample)) # generate random numbers for angles\n",
        "  angle = (angle-0.5)*angleconstraint # make the random angle constrained\n",
        "  nsample = sample.copy() # preallocate the augmented array to make it faster\n",
        "  for ii in range(len(sample)):\n",
        "    nsample[ii] = rotate(shear(sample[ii], amt[ii]), angle[ii]) # first apply shear, then rotate\n",
        "  return np.squeeze(nsample) # take care if the input had only one sample."
      ],
      "execution_count": 7,
      "outputs": []
    },
    {
      "cell_type": "markdown",
      "metadata": {
        "id": "OGKyjjNx-NQ4"
      },
      "source": [
        "Since we have two hyperparameters, we have to do the grid search on a 2 dimensional matrix. We can use our previous experience to inform where to search for the best hyperparameters. "
      ]
    },
    {
      "cell_type": "code",
      "metadata": {
        "id": "TJC45WRg0pOP",
        "colab": {
          "base_uri": "https://localhost:8080/"
        },
        "outputId": "2145f07d-cc38-4a21-a753-9f9788663d4b"
      },
      "source": [
        "shearconstraints = [0, 0.2,0.4,0.6,0.8,1.0,1.2,1.4,1.6] # the values we want to test\n",
        "angleconstraints = [0,10,20,30,40,50,60] # the values we want to test\n",
        "hyp = cartesian((shearconstraints, angleconstraints)) # cartesian product of both\n",
        "\n",
        "accuracies = np.zeros(len(hyp), dtype=np.float) # we will save the values here\n",
        "\n",
        "for ii in range(len(hyp)):\n",
        "  # create the augmented dataset\n",
        "  augdata = train_X # we include the original images also in the augmented dataset\n",
        "  auglabel = train_y\n",
        "  for jj in range(naugmentations):\n",
        "    augdata = np.concatenate((augdata, augRotateShear(train_X, hyp[ii][0], hyp[ii][1]))) # concatenate the augmented data to the set\n",
        "    auglabel = np.concatenate((auglabel, train_y))  # the labels don't change when we augment\n",
        "\n",
        "  # check the test accuracy\n",
        "  testpred = NN(augdata, auglabel, test_X)\n",
        "  accuracies[ii] = Accuracy(test_y, testpred)\n",
        "  print('Accuracy after augmentation shear:',hyp[ii][0], 'angle:',hyp[ii][1], ' is ', accuracies[ii], flush=True)"
      ],
      "execution_count": null,
      "outputs": [
        {
          "output_type": "stream",
          "name": "stdout",
          "text": [
            "Accuracy after augmentation shear: 0.0 angle: 0.0  is  0.6332\n",
            "Accuracy after augmentation shear: 0.0 angle: 10.0  is  0.6151\n",
            "Accuracy after augmentation shear: 0.0 angle: 20.0  is  0.5997\n",
            "Accuracy after augmentation shear: 0.0 angle: 30.0  is  0.5915\n",
            "Accuracy after augmentation shear: 0.0 angle: 40.0  is  0.6198\n",
            "Accuracy after augmentation shear: 0.0 angle: 50.0  is  0.6031\n",
            "Accuracy after augmentation shear: 0.0 angle: 60.0  is  0.5916\n",
            "Accuracy after augmentation shear: 0.2 angle: 0.0  is  0.634\n",
            "Accuracy after augmentation shear: 0.2 angle: 10.0  is  0.5991\n",
            "Accuracy after augmentation shear: 0.2 angle: 20.0  is  0.6044\n",
            "Accuracy after augmentation shear: 0.2 angle: 30.0  is  0.6358\n",
            "Accuracy after augmentation shear: 0.2 angle: 40.0  is  0.5827\n",
            "Accuracy after augmentation shear: 0.2 angle: 50.0  is  0.579\n",
            "Accuracy after augmentation shear: 0.2 angle: 60.0  is  0.5877\n",
            "Accuracy after augmentation shear: 0.4 angle: 0.0  is  0.6344\n",
            "Accuracy after augmentation shear: 0.4 angle: 10.0  is  0.6151\n",
            "Accuracy after augmentation shear: 0.4 angle: 20.0  is  0.5988\n",
            "Accuracy after augmentation shear: 0.4 angle: 30.0  is  0.6107\n",
            "Accuracy after augmentation shear: 0.4 angle: 40.0  is  0.6177\n",
            "Accuracy after augmentation shear: 0.4 angle: 50.0  is  0.5855\n",
            "Accuracy after augmentation shear: 0.4 angle: 60.0  is  0.5893\n",
            "Accuracy after augmentation shear: 0.6 angle: 0.0  is  0.6339\n",
            "Accuracy after augmentation shear: 0.6 angle: 10.0  is  0.6191\n",
            "Accuracy after augmentation shear: 0.6 angle: 20.0  is  0.595\n",
            "Accuracy after augmentation shear: 0.6 angle: 30.0  is  0.5963\n",
            "Accuracy after augmentation shear: 0.6 angle: 40.0  is  0.6203\n",
            "Accuracy after augmentation shear: 0.6 angle: 50.0  is  0.5859\n",
            "Accuracy after augmentation shear: 0.6 angle: 60.0  is  0.6094\n",
            "Accuracy after augmentation shear: 0.8 angle: 0.0  is  0.6354\n",
            "Accuracy after augmentation shear: 0.8 angle: 10.0  is  0.6208\n",
            "Accuracy after augmentation shear: 0.8 angle: 20.0  is  0.5928\n",
            "Accuracy after augmentation shear: 0.8 angle: 30.0  is  0.5875\n",
            "Accuracy after augmentation shear: 0.8 angle: 40.0  is  0.6242\n",
            "Accuracy after augmentation shear: 0.8 angle: 50.0  is  0.5796\n",
            "Accuracy after augmentation shear: 0.8 angle: 60.0  is  0.5947\n",
            "Accuracy after augmentation shear: 1.0 angle: 0.0  is  0.6334\n",
            "Accuracy after augmentation shear: 1.0 angle: 10.0  is  0.6178\n",
            "Accuracy after augmentation shear: 1.0 angle: 20.0  is  0.6074\n",
            "Accuracy after augmentation shear: 1.0 angle: 30.0  is  0.5934\n",
            "Accuracy after augmentation shear: 1.0 angle: 40.0  is  0.6199\n",
            "Accuracy after augmentation shear: 1.0 angle: 50.0  is  0.5865\n",
            "Accuracy after augmentation shear: 1.0 angle: 60.0  is  0.5952\n",
            "Accuracy after augmentation shear: 1.2 angle: 0.0  is  0.6328\n",
            "Accuracy after augmentation shear: 1.2 angle: 10.0  is  0.5727\n",
            "Accuracy after augmentation shear: 1.2 angle: 20.0  is  0.617\n",
            "Accuracy after augmentation shear: 1.2 angle: 30.0  is  0.5852\n",
            "Accuracy after augmentation shear: 1.2 angle: 40.0  is  0.5813\n",
            "Accuracy after augmentation shear: 1.2 angle: 50.0  is  0.587\n",
            "Accuracy after augmentation shear: 1.2 angle: 60.0  is  0.6195\n",
            "Accuracy after augmentation shear: 1.4 angle: 0.0  is  0.6344\n",
            "Accuracy after augmentation shear: 1.4 angle: 10.0  is  0.6069\n",
            "Accuracy after augmentation shear: 1.4 angle: 20.0  is  0.601\n",
            "Accuracy after augmentation shear: 1.4 angle: 30.0  is  0.5848\n",
            "Accuracy after augmentation shear: 1.4 angle: 40.0  is  0.6005\n",
            "Accuracy after augmentation shear: 1.4 angle: 50.0  is  0.6045\n",
            "Accuracy after augmentation shear: 1.4 angle: 60.0  is  0.6129\n",
            "Accuracy after augmentation shear: 1.6 angle: 0.0  is  0.6369\n",
            "Accuracy after augmentation shear: 1.6 angle: 10.0  is  0.6097\n",
            "Accuracy after augmentation shear: 1.6 angle: 20.0  is  0.6078\n",
            "Accuracy after augmentation shear: 1.6 angle: 30.0  is  0.6048\n",
            "Accuracy after augmentation shear: 1.6 angle: 40.0  is  0.585\n",
            "Accuracy after augmentation shear: 1.6 angle: 50.0  is  0.5915\n",
            "Accuracy after augmentation shear: 1.6 angle: 60.0  is  0.5941\n"
          ]
        }
      ]
    },
    {
      "cell_type": "markdown",
      "metadata": {
        "id": "PT6CnvSDEX7a"
      },
      "source": [
        "Let us plot it two dimensionally to see which is the best value for the hyperparameters:"
      ]
    },
    {
      "cell_type": "code",
      "metadata": {
        "id": "jD2i7msI_cLd",
        "colab": {
          "base_uri": "https://localhost:8080/",
          "height": 309
        },
        "outputId": "b6c1156f-ea8a-4fef-e7dc-44fbb20bed05"
      },
      "source": [
        "fig = plt.figure()\n",
        "ax = fig.add_axes([0.1, 0.1, 0.8, 0.8]) # main axes\n",
        "im = ax.imshow(accuracies.reshape((len(shearconstraints), len(angleconstraints))), cmap='inferno') \n",
        "ax.set_xlabel('angle')\n",
        "ax.set_ylabel('shear')\n",
        "ax.set_xticks(np.arange(len(angleconstraints)));\n",
        "ax.set_xticklabels(angleconstraints);\n",
        "ax.set_yticks(np.arange(len(shearconstraints)));\n",
        "ax.set_yticklabels(shearconstraints);\n",
        "plt.colorbar(im)"
      ],
      "execution_count": null,
      "outputs": [
        {
          "output_type": "execute_result",
          "data": {
            "text/plain": [
              "<matplotlib.colorbar.Colorbar at 0x7fca9ba7d2d0>"
            ]
          },
          "metadata": {},
          "execution_count": 23
        },
        {
          "output_type": "display_data",
          "data": {
            "image/png": "[encoded data removed]",
            "text/plain": [
              "<Figure size 432x288 with 2 Axes>"
            ]
          },
          "metadata": {
            "needs_background": "light"
          }
        }
      ]
    },
    {
      "cell_type": "markdown",
      "metadata": {
        "id": "OHcZWJiFJDMh"
      },
      "source": [
        "It seems that rotation and shear don't mix! The best accuracy is when rotation is zero."
      ]
    },
    {
      "cell_type": "markdown",
      "metadata": {
        "id": "PAasQo1C3x4A"
      },
      "source": [
        "## Questions\n",
        "Try these questions for better understanding. You may not be able to solve all of them. \n",
        "1. What is the best value for angle constraint and shear constraint you got? How much did the accuracy improve as compared to not using augmentations?\n",
        "2. Can you increase the accuracy by increasing the number of augmentations from each sample?\n",
        "3. Try implementing a few augmentations of your own and experimenting with them. A good reference is <a href=https://www.analyticsvidhya.com/blog/2019/12/image-augmentation-deep-learning-pytorch/>here. </a>\n",
        "4. Try combining various augmentations. What is the highest accuracy you can get? What is the smallest training dataset you can take and still get accuracy above 50%?\n",
        "\n",
        "Whenever you do any experiment, a good practice is to vary the hyperparameters gradually and create a graph of your results, like we did for gridsearch. "
      ]
    },
    {
      "cell_type": "markdown",
      "metadata": {
        "id": "JRbNj__qB72i"
      },
      "source": [
        "**Answer to 1:** The Best Value of angle constraint is **0 degree** and the shear constraint is at **0.8,1.6**.If we see the accuracy by combining angle and shear is **lower** than without agumentation but if we consider individually like only by angle constraint the accuracys improves from **0.6472 to 0.6736** and by shear constraint accuracy improves by **0.6472 to 0.6652**"
      ]
    },
    {
      "cell_type": "code",
      "metadata": {
        "id": "8SzfDkX7ssA3"
      },
      "source": [
        "shearconstraints = [0, 0.2,0.4,0.6,0.8,1] # the values we want to test\n",
        "accuracies = np.zeros(len(shearconstraints), dtype=np.float) # we will save the values here\n",
        "agumenation_list = [2,4,6,8,10,15]\n",
        "for kk in agumenation_list:\n",
        "  naugmentations = kk\n",
        "  for ii in range(len(shearconstraints)):\n",
        "    # create the augmented dataset\n",
        "    augdata = train_X # we include the original images also in the augmented dataset\n",
        "    auglabel = train_y\n",
        "    for jj in range(naugmentations):\n",
        "      augdata = np.concatenate((augdata, augShear(train_X, shearconstraints[ii]))) # concatenate the augmented data to the set\n",
        "      auglabel = np.concatenate((auglabel, train_y))  # the labels don't change when we augment\n",
        "\n",
        "    # check the test accuracy\n",
        "    testpred = NN(augdata, auglabel, test_X)\n",
        "    accuracies[ii] = Accuracy(test_y, testpred)\n"
      ],
      "execution_count": null,
      "outputs": []
    },
    {
      "cell_type": "code",
      "metadata": {
        "id": "VYRxvcCKssDb",
        "colab": {
          "base_uri": "https://localhost:8080/",
          "height": 312
        },
        "outputId": "2ceb71c5-e274-48f7-d6d0-0454c3d52a30"
      },
      "source": [
        "plt.xlabel('agumenation value')\n",
        "plt.ylabel('Accuracy')\n",
        "plt.title('Accuracy Vs agumentation value')\n",
        "plt.plot(agumenation_list,accuracies)"
      ],
      "execution_count": null,
      "outputs": [
        {
          "output_type": "execute_result",
          "data": {
            "text/plain": [
              "[<matplotlib.lines.Line2D at 0x7fca981d6850>]"
            ]
          },
          "metadata": {},
          "execution_count": 35
        },
        {
          "output_type": "display_data",
          "data": {
            "image/png": "[encoded data removed]",
            "text/plain": [
              "<Figure size 432x288 with 1 Axes>"
            ]
          },
          "metadata": {
            "needs_background": "light"
          }
        }
      ]
    },
    {
      "cell_type": "markdown",
      "metadata": {
        "id": "wZqZhokSSZyd"
      },
      "source": [
        "**ANswer to Q)2** From above graph we can see a trend of increase in accuracy as we increase the agumentation value"
      ]
    },
    {
      "cell_type": "markdown",
      "metadata": {
        "id": "h8J4hJNbSlfM"
      },
      "source": [
        " My agumentations techinuqies are **Translation and Blurr** code of it shown below"
      ]
    },
    {
      "cell_type": "code",
      "metadata": {
        "id": "mCzpwluJ46pI"
      },
      "source": [
        "def Translate(sample,x,y):\n",
        "  if len(sample.shape)==2:\n",
        "    sample = np.expand_dims(sample, 0)\n",
        "  samp_data = sample.copy()\n",
        "  # for i in range((samp_data.shape[0])):\n",
        "  s=rng.random(len(samp_data))\n",
        "  s=s-0.5\n",
        "  for j in range(len(s)):\n",
        "    trans = AffineTransform(translation=(s[j]*x,s[j]*y))\n",
        "    samp_data[j] = warp(sample[j],trans,mode='wrap')\n",
        "    # print(samp_data)\n",
        "  return samp_data\n"
      ],
      "execution_count": 43,
      "outputs": []
    },
    {
      "cell_type": "code",
      "metadata": {
        "id": "ELABwDByswbC",
        "colab": {
          "base_uri": "https://localhost:8080/"
        },
        "outputId": "2b31cc91-f455-427a-d8e4-fd8ecd1c3bdb"
      },
      "source": [
        "translation_list = [(0,0),(10,0),(0,10),(10,10),(20,0),(0,20),(20,20)]\n",
        "auglabel = train_y\n",
        "augdata = train_X\n",
        "naugmentations=5\n",
        "accur=[]\n",
        "for p in range(len(translation_list)):\n",
        "  x,y = translation_list[p]\n",
        "  augdata = train_X.copy()\n",
        "  auglabel = train_y.copy()\n",
        "  for q in range(naugmentations):\n",
        "    augdata = np.concatenate((augdata,Translate(train_X,x,y)))\n",
        "    auglabel = np.concatenate((auglabel,train_y))\n",
        "  pred = NN(augdata,auglabel,test_X)\n",
        "  acc= Accuracy(test_y,pred)\n",
        "  print(\"Accuracy for \"+str(translation_list[p])+' translation: '+str(acc))\n",
        "  accur.append(acc)"
      ],
      "execution_count": null,
      "outputs": [
        {
          "output_type": "stream",
          "name": "stdout",
          "text": [
            "Accuracy for (0, 0) translation: 0.6472\n",
            "Accuracy for (10, 0) translation: 0.6283\n",
            "Accuracy for (0, 10) translation: 0.6282\n",
            "Accuracy for (10, 10) translation: 0.6161\n",
            "Accuracy for (20, 0) translation: 0.6151\n",
            "Accuracy for (0, 20) translation: 0.6168\n",
            "Accuracy for (20, 20) translation: 0.5712\n"
          ]
        }
      ]
    },
    {
      "cell_type": "code",
      "metadata": {
        "id": "AUc67lKAsxpR",
        "colab": {
          "base_uri": "https://localhost:8080/",
          "height": 312
        },
        "outputId": "c1741a97-10b9-4b37-a0bd-cfe7392f5e54"
      },
      "source": [
        "for x in range(len(translation_list)):\n",
        "  translation_list[x]=str(translation_list[x])\n",
        "plt.xlabel('Translation of (x,y)')\n",
        "plt.ylabel('Accuracy')\n",
        "plt.title(\"Accuracy Vs Translation of (x,y) coordinate\")\n",
        "plt.plot(translation_list,accur)"
      ],
      "execution_count": null,
      "outputs": [
        {
          "output_type": "execute_result",
          "data": {
            "text/plain": [
              "[<matplotlib.lines.Line2D at 0x7fca97f2f210>]"
            ]
          },
          "metadata": {},
          "execution_count": 38
        },
        {
          "output_type": "display_data",
          "data": {
            "image/png": "[encoded data removed]",
            "text/plain": [
              "<Figure size 432x288 with 1 Axes>"
            ]
          },
          "metadata": {
            "needs_background": "light"
          }
        }
      ]
    },
    {
      "cell_type": "code",
      "metadata": {
        "id": "5nTaZdzssxwN"
      },
      "source": [
        "from skimage.filters import gaussian\n",
        "\n",
        "def blurr(data,x):\n",
        "  samp_data = data.copy()\n",
        "  s=rng.random(len(samp_data))\n",
        "  s=s-0.5\n",
        "  for j in range(len(s)):\n",
        "    samp_data[j] = gaussian(data[j],sigma=x)\n",
        "  return samp_data"
      ],
      "execution_count": 9,
      "outputs": []
    },
    {
      "cell_type": "code",
      "metadata": {
        "id": "AethnTkjsxy9",
        "colab": {
          "base_uri": "https://localhost:8080/"
        },
        "outputId": "803e9be6-406d-4f1d-d3d5-3d0c5fa86779"
      },
      "source": [
        "sigma = [0,0.1,0.2,0.3,0.4,0.5,0.6,0.7,0.8,0.9,1]\n",
        "auglabel = train_y\n",
        "augdata = train_X\n",
        "naugmentations=5\n",
        "accur=[]\n",
        "for p in range(len(sigma)):\n",
        "  augdata = train_X.copy()\n",
        "  auglabel = train_y.copy()\n",
        "  for q in range(naugmentations):\n",
        "    augdata = np.concatenate((augdata,blurr(train_X,p)))\n",
        "    auglabel = np.concatenate((auglabel,train_y))\n",
        "  pred = NN(augdata,auglabel,test_X)\n",
        "  acc= Accuracy(test_y,pred)\n",
        "  print(\"Accuracy for sigma=\"+str(sigma[p])+' is : '+str(acc))\n",
        "  accur.append(acc)"
      ],
      "execution_count": null,
      "outputs": [
        {
          "output_type": "stream",
          "name": "stdout",
          "text": [
            "Accuracy for sigma=0 is : 0.6472\n",
            "Accuracy for sigma=0.1 is : 0.6942\n",
            "Accuracy for sigma=0.2 is : 0.7022\n",
            "Accuracy for sigma=0.3 is : 0.6603\n",
            "Accuracy for sigma=0.4 is : 0.6032\n",
            "Accuracy for sigma=0.5 is : 0.5655\n",
            "Accuracy for sigma=0.6 is : 0.5555\n",
            "Accuracy for sigma=0.7 is : 0.558\n",
            "Accuracy for sigma=0.8 is : 0.5651\n",
            "Accuracy for sigma=0.9 is : 0.5759\n",
            "Accuracy for sigma=1 is : 0.5872\n"
          ]
        }
      ]
    },
    {
      "cell_type": "code",
      "metadata": {
        "id": "desywUhosx1y",
        "colab": {
          "base_uri": "https://localhost:8080/",
          "height": 312
        },
        "outputId": "d0cc94d8-62c1-4acb-eb25-7efb0adbeec8"
      },
      "source": [
        "plt.xlabel('sigma value')\n",
        "plt.ylabel('Accuracy')\n",
        "plt.title('sigma value Vs Accuracy')\n",
        "plt.plot(sigma,accur)\n",
        "s=np.argmax(accur)\n",
        "plt.scatter(sigma[s],accur[s],color='red')"
      ],
      "execution_count": null,
      "outputs": [
        {
          "output_type": "execute_result",
          "data": {
            "text/plain": [
              "<matplotlib.collections.PathCollection at 0x7fca957f1810>"
            ]
          },
          "metadata": {},
          "execution_count": 44
        },
        {
          "output_type": "display_data",
          "data": {
            "image/png": "[encoded data removed]",
            "text/plain": [
              "<Figure size 432x288 with 1 Axes>"
            ]
          },
          "metadata": {
            "needs_background": "light"
          }
        }
      ]
    },
    {
      "cell_type": "markdown",
      "metadata": {
        "id": "H3UeH2vAVryg"
      },
      "source": [
        "We can see that the the highest Accuracy value of Blurr agumenation is **70%** which is much better than all other agumentation which we look untill now as they highest accuracy is less than 70%"
      ]
    },
    {
      "cell_type": "markdown",
      "metadata": {
        "id": "l7R2r1D2THyB"
      },
      "source": [
        "Below code is the Accuracy of test data set  with blurr and translation auguments"
      ]
    },
    {
      "cell_type": "code",
      "metadata": {
        "id": "hCGWX6h0sx4l",
        "colab": {
          "base_uri": "https://localhost:8080/"
        },
        "outputId": "ceed2efc-d7c9-4f18-c024-3954054e7466"
      },
      "source": [
        "accur=[]\n",
        "translation_list = [(0,0),(10,0),(0,10),(10,10),(20,0),(0,20),(20,20)]\n",
        "sigma = [0.0,0.2,0.4,0.5,0.6,0.8,1]\n",
        "naugmentations=5\n",
        "for p in range(len(sigma)):\n",
        "  augdata = train_X.copy()\n",
        "  auglabel = train_y.copy()\n",
        "  for r in range(nagumentations):\n",
        "    augdata = np.concatenate((augdata,blurr(train_X,p)))\n",
        "    auglabel = np.concatenate((auglabel,train_y))\n",
        "  for q in range(len(translation_list)):\n",
        "    x,y = translation_list[q]\n",
        "    for r in range(naugmentations):\n",
        "      augdata = np.concatenate((augdata,Translate(train_X,x,y)))\n",
        "      auglabel = np.concatenate((auglabel,train_y))\n",
        "    pred = NN(augdata,auglabel,test_X)\n",
        "    acc= Accuracy(test_y,pred)\n",
        "    print('Accuracy for sigma:'+str(sigma[p])+' and translation of (x,y) cordinates by '+str(translation_list[q])+': '+str(acc))\n",
        "    accur.append(acc)"
      ],
      "execution_count": 189,
      "outputs": [
        {
          "output_type": "stream",
          "name": "stdout",
          "text": [
            "Accuracy for sigma:0.0 and translation of (x,y) cordinates by (0, 0): 0.6472\n",
            "Accuracy for sigma:0.0 and translation of (x,y) cordinates by (10, 0): 0.6131\n",
            "Accuracy for sigma:0.0 and translation of (x,y) cordinates by (0, 10): 0.6473\n",
            "Accuracy for sigma:0.0 and translation of (x,y) cordinates by (10, 10): 0.6549\n",
            "Accuracy for sigma:0.0 and translation of (x,y) cordinates by (20, 0): 0.6556\n",
            "Accuracy for sigma:0.0 and translation of (x,y) cordinates by (0, 20): 0.66\n",
            "Accuracy for sigma:0.0 and translation of (x,y) cordinates by (20, 20): 0.656\n",
            "Accuracy for sigma:0.2 and translation of (x,y) cordinates by (0, 0): 0.6942\n",
            "Accuracy for sigma:0.2 and translation of (x,y) cordinates by (10, 0): 0.6974\n",
            "Accuracy for sigma:0.2 and translation of (x,y) cordinates by (0, 10): 0.6969\n",
            "Accuracy for sigma:0.2 and translation of (x,y) cordinates by (10, 10): 0.6915\n",
            "Accuracy for sigma:0.2 and translation of (x,y) cordinates by (20, 0): 0.6925\n",
            "Accuracy for sigma:0.2 and translation of (x,y) cordinates by (0, 20): 0.6938\n",
            "Accuracy for sigma:0.2 and translation of (x,y) cordinates by (20, 20): 0.6911\n",
            "Accuracy for sigma:0.4 and translation of (x,y) cordinates by (0, 0): 0.7022\n",
            "Accuracy for sigma:0.4 and translation of (x,y) cordinates by (10, 0): 0.7037\n",
            "Accuracy for sigma:0.4 and translation of (x,y) cordinates by (0, 10): 0.7044\n",
            "Accuracy for sigma:0.4 and translation of (x,y) cordinates by (10, 10): 0.7012\n",
            "Accuracy for sigma:0.4 and translation of (x,y) cordinates by (20, 0): 0.7006\n",
            "Accuracy for sigma:0.4 and translation of (x,y) cordinates by (0, 20): 0.7008\n",
            "Accuracy for sigma:0.4 and translation of (x,y) cordinates by (20, 20): 0.6993\n",
            "Accuracy for sigma:0.5 and translation of (x,y) cordinates by (0, 0): 0.6603\n",
            "Accuracy for sigma:0.5 and translation of (x,y) cordinates by (10, 0): 0.6649\n",
            "Accuracy for sigma:0.5 and translation of (x,y) cordinates by (0, 10): 0.6674\n",
            "Accuracy for sigma:0.5 and translation of (x,y) cordinates by (10, 10): 0.6592\n",
            "Accuracy for sigma:0.5 and translation of (x,y) cordinates by (20, 0): 0.6618\n",
            "Accuracy for sigma:0.5 and translation of (x,y) cordinates by (0, 20): 0.6629\n",
            "Accuracy for sigma:0.5 and translation of (x,y) cordinates by (20, 20): 0.6602\n",
            "Accuracy for sigma:0.6 and translation of (x,y) cordinates by (0, 0): 0.6032\n",
            "Accuracy for sigma:0.6 and translation of (x,y) cordinates by (10, 0): 0.6069\n",
            "Accuracy for sigma:0.6 and translation of (x,y) cordinates by (0, 10): 0.6241\n",
            "Accuracy for sigma:0.6 and translation of (x,y) cordinates by (10, 10): 0.638\n",
            "Accuracy for sigma:0.6 and translation of (x,y) cordinates by (20, 0): 0.6423\n",
            "Accuracy for sigma:0.6 and translation of (x,y) cordinates by (0, 20): 0.645\n",
            "Accuracy for sigma:0.6 and translation of (x,y) cordinates by (20, 20): 0.6404\n",
            "Accuracy for sigma:0.8 and translation of (x,y) cordinates by (0, 0): 0.5655\n",
            "Accuracy for sigma:0.8 and translation of (x,y) cordinates by (10, 0): 0.6043\n",
            "Accuracy for sigma:0.8 and translation of (x,y) cordinates by (0, 10): 0.6238\n",
            "Accuracy for sigma:0.8 and translation of (x,y) cordinates by (10, 10): 0.6236\n",
            "Accuracy for sigma:0.8 and translation of (x,y) cordinates by (20, 0): 0.6268\n",
            "Accuracy for sigma:0.8 and translation of (x,y) cordinates by (0, 20): 0.6271\n",
            "Accuracy for sigma:0.8 and translation of (x,y) cordinates by (20, 20): 0.6261\n",
            "Accuracy for sigma:1 and translation of (x,y) cordinates by (0, 0): 0.5555\n",
            "Accuracy for sigma:1 and translation of (x,y) cordinates by (10, 0): 0.6007\n",
            "Accuracy for sigma:1 and translation of (x,y) cordinates by (0, 10): 0.6245\n",
            "Accuracy for sigma:1 and translation of (x,y) cordinates by (10, 10): 0.6207\n",
            "Accuracy for sigma:1 and translation of (x,y) cordinates by (20, 0): 0.62\n",
            "Accuracy for sigma:1 and translation of (x,y) cordinates by (0, 20): 0.6248\n",
            "Accuracy for sigma:1 and translation of (x,y) cordinates by (20, 20): 0.6311\n"
          ]
        }
      ]
    },
    {
      "cell_type": "markdown",
      "metadata": {
        "id": "PbvYkDNmFLh_"
      },
      "source": [
        "Combining translation,shear and rotate\n",
        "\n",
        "\n",
        "\n",
        "\n"
      ]
    },
    {
      "cell_type": "code",
      "metadata": {
        "id": "_BMe8kfNKsa9"
      },
      "source": [
        "def augTranslateBlurrRotate(sample,a,b,c):\n",
        "  # return sample\n",
        "  x,y = a\n",
        "  augdata = sample.copy()\n",
        "  arr = rng.random(len(augdata))\n",
        "  ang = (arr-0.5)*c\n",
        "  for s in range(len(augdata)):\n",
        "    augdata[s] = Translate(blurr(rotate(sample[s],ang[s]),b),x,y)\n",
        "  return augdata\n",
        "  # for p in range()\n",
        "# augtranslateshearrotate(train_X,(0,0),0.5,60)\n",
        "# augTranslateBlurrRotate(small_dataset,(0,0),sigma,45)"
      ],
      "execution_count": 143,
      "outputs": []
    },
    {
      "cell_type": "code",
      "metadata": {
        "id": "TvM3dECAsx7P",
        "colab": {
          "base_uri": "https://localhost:8080/"
        },
        "outputId": "604152dd-1b8c-471b-a630-0c0e6998e247"
      },
      "source": [
        "translation_list = [(0,0),(10,0),(10,10),(10,10)]\n",
        "sigma_list = [0.0,0.4,0.6,0.8]\n",
        "rotate_list =[0,30,60,90]\n",
        "nagumentations=1\n",
        "augdata = train_X.copy()\n",
        "auglabel = train_y.copy()\n",
        "for j in range(len(translation_list)):\n",
        "  augdata = train_X.copy()\n",
        "  auglabel = train_y.copy()\n",
        "  for k in range(len(sigma_list)):\n",
        "    for l in range(len(rotate_list)):\n",
        "      for i in range((nagumentations)):\n",
        "\n",
        "        augdata = np.concatenate((augdata,augTranslateBlurrRotate(train_X,translation_list[j],sigma_list[k],rotate_list[l])))\n",
        "        auglabel = np.concatenate((auglabel,train_y))\n",
        "\n",
        "        pred = NN(augdata,auglabel,test_X)\n",
        "        acc= Accuracy(test_y,pred)\n",
        "        print(\"accuracy for translate of \"+str(translation_list[j])+' sigma constraint:'+str(sigma_list[k])+' rotatation :'+str(rotate_list[l])+' is :'+str(acc))\n",
        "    \n",
        "\n",
        "  "
      ],
      "execution_count": 84,
      "outputs": [
        {
          "output_type": "stream",
          "name": "stdout",
          "text": [
            "accuracy for translate of (0, 0) sigma constraint:0.0 rotatation :0 is :0.6472\n",
            "accuracy for translate of (0, 0) sigma constraint:0.0 rotatation :30 is :0.6507\n",
            "accuracy for translate of (0, 0) sigma constraint:0.0 rotatation :60 is :0.6548\n",
            "accuracy for translate of (0, 0) sigma constraint:0.0 rotatation :90 is :0.654\n",
            "accuracy for translate of (0, 0) sigma constraint:0.4 rotatation :0 is :0.6577\n",
            "accuracy for translate of (0, 0) sigma constraint:0.4 rotatation :30 is :0.6637\n",
            "accuracy for translate of (0, 0) sigma constraint:0.4 rotatation :60 is :0.6772\n",
            "accuracy for translate of (0, 0) sigma constraint:0.4 rotatation :90 is :0.6769\n",
            "accuracy for translate of (0, 0) sigma constraint:0.6 rotatation :0 is :0.6811\n",
            "accuracy for translate of (0, 0) sigma constraint:0.6 rotatation :30 is :0.6817\n",
            "accuracy for translate of (0, 0) sigma constraint:0.6 rotatation :60 is :0.6856\n",
            "accuracy for translate of (0, 0) sigma constraint:0.6 rotatation :90 is :0.6883\n",
            "accuracy for translate of (0, 0) sigma constraint:0.8 rotatation :0 is :0.6875\n",
            "accuracy for translate of (0, 0) sigma constraint:0.8 rotatation :30 is :0.6863\n",
            "accuracy for translate of (0, 0) sigma constraint:0.8 rotatation :60 is :0.6817\n",
            "accuracy for translate of (0, 0) sigma constraint:0.8 rotatation :90 is :0.6793\n",
            "accuracy for translate of (10, 0) sigma constraint:0.0 rotatation :0 is :0.6439\n",
            "accuracy for translate of (10, 0) sigma constraint:0.0 rotatation :30 is :0.6057\n",
            "accuracy for translate of (10, 0) sigma constraint:0.0 rotatation :60 is :0.6051\n",
            "accuracy for translate of (10, 0) sigma constraint:0.0 rotatation :90 is :0.6103\n",
            "accuracy for translate of (10, 0) sigma constraint:0.4 rotatation :0 is :0.6183\n",
            "accuracy for translate of (10, 0) sigma constraint:0.4 rotatation :30 is :0.627\n",
            "accuracy for translate of (10, 0) sigma constraint:0.4 rotatation :60 is :0.6033\n",
            "accuracy for translate of (10, 0) sigma constraint:0.4 rotatation :90 is :0.6057\n",
            "accuracy for translate of (10, 0) sigma constraint:0.6 rotatation :0 is :0.6137\n",
            "accuracy for translate of (10, 0) sigma constraint:0.6 rotatation :30 is :0.6101\n",
            "accuracy for translate of (10, 0) sigma constraint:0.6 rotatation :60 is :0.6099\n",
            "accuracy for translate of (10, 0) sigma constraint:0.6 rotatation :90 is :0.6124\n",
            "accuracy for translate of (10, 0) sigma constraint:0.8 rotatation :0 is :0.6201\n",
            "accuracy for translate of (10, 0) sigma constraint:0.8 rotatation :30 is :0.6217\n",
            "accuracy for translate of (10, 0) sigma constraint:0.8 rotatation :60 is :0.6286\n",
            "accuracy for translate of (10, 0) sigma constraint:0.8 rotatation :90 is :0.6291\n",
            "accuracy for translate of (10, 10) sigma constraint:0.0 rotatation :0 is :0.6007\n",
            "accuracy for translate of (10, 10) sigma constraint:0.0 rotatation :30 is :0.5904\n",
            "accuracy for translate of (10, 10) sigma constraint:0.0 rotatation :60 is :0.578\n",
            "accuracy for translate of (10, 10) sigma constraint:0.0 rotatation :90 is :0.5701\n",
            "accuracy for translate of (10, 10) sigma constraint:0.4 rotatation :0 is :0.5974\n",
            "accuracy for translate of (10, 10) sigma constraint:0.4 rotatation :30 is :0.5937\n",
            "accuracy for translate of (10, 10) sigma constraint:0.4 rotatation :60 is :0.599\n",
            "accuracy for translate of (10, 10) sigma constraint:0.4 rotatation :90 is :0.6091\n",
            "accuracy for translate of (10, 10) sigma constraint:0.6 rotatation :0 is :0.6052\n",
            "accuracy for translate of (10, 10) sigma constraint:0.6 rotatation :30 is :0.61\n",
            "accuracy for translate of (10, 10) sigma constraint:0.6 rotatation :60 is :0.6135\n",
            "accuracy for translate of (10, 10) sigma constraint:0.6 rotatation :90 is :0.6174\n",
            "accuracy for translate of (10, 10) sigma constraint:0.8 rotatation :0 is :0.6236\n",
            "accuracy for translate of (10, 10) sigma constraint:0.8 rotatation :30 is :0.6364\n",
            "accuracy for translate of (10, 10) sigma constraint:0.8 rotatation :60 is :0.6408\n",
            "accuracy for translate of (10, 10) sigma constraint:0.8 rotatation :90 is :0.6408\n",
            "accuracy for translate of (10, 10) sigma constraint:0.0 rotatation :0 is :0.5928\n",
            "accuracy for translate of (10, 10) sigma constraint:0.0 rotatation :30 is :0.5531\n",
            "accuracy for translate of (10, 10) sigma constraint:0.0 rotatation :60 is :0.591\n",
            "accuracy for translate of (10, 10) sigma constraint:0.0 rotatation :90 is :0.5829\n",
            "accuracy for translate of (10, 10) sigma constraint:0.4 rotatation :0 is :0.5813\n",
            "accuracy for translate of (10, 10) sigma constraint:0.4 rotatation :30 is :0.5878\n",
            "accuracy for translate of (10, 10) sigma constraint:0.4 rotatation :60 is :0.5955\n",
            "accuracy for translate of (10, 10) sigma constraint:0.4 rotatation :90 is :0.5945\n",
            "accuracy for translate of (10, 10) sigma constraint:0.6 rotatation :0 is :0.6091\n",
            "accuracy for translate of (10, 10) sigma constraint:0.6 rotatation :30 is :0.6363\n",
            "accuracy for translate of (10, 10) sigma constraint:0.6 rotatation :60 is :0.6349\n",
            "accuracy for translate of (10, 10) sigma constraint:0.6 rotatation :90 is :0.6505\n",
            "accuracy for translate of (10, 10) sigma constraint:0.8 rotatation :0 is :0.6589\n",
            "accuracy for translate of (10, 10) sigma constraint:0.8 rotatation :30 is :0.6684\n",
            "accuracy for translate of (10, 10) sigma constraint:0.8 rotatation :60 is :0.6671\n",
            "accuracy for translate of (10, 10) sigma constraint:0.8 rotatation :90 is :0.6654\n"
          ]
        }
      ]
    },
    {
      "cell_type": "markdown",
      "metadata": {
        "id": "TN1Mjkoiq6DG"
      },
      "source": [
        "**Answer to Q)3** The Highest Accuracy fromthe mixed agumenation  was **70.37%** in combination of translation and blurr. where as the combination of translation,blurr and rotate give highest accuracy as **68.63%**"
      ]
    },
    {
      "cell_type": "markdown",
      "metadata": {
        "id": "C9CaS5NsBOPH"
      },
      "source": [
        "The smallest dataset is a set of each number only once let call it as small_datset\n",
        "accuarcy  of small dataset without agumentation"
      ]
    },
    {
      "cell_type": "code",
      "metadata": {
        "id": "_To48bVmmH6i"
      },
      "source": [
        "small_dataset = None\n",
        "(x,y),(p,q) = mnist.load_data()\n",
        "for i in range(10):\n",
        "  if small_dataset is None:\n",
        "    small_dataset = x[y==i,:,:][0].reshape(1,28,28)\n",
        "  else:\n",
        "    small_dataset = np.concatenate((small_dataset,x[y==i,:,:][0].reshape(1,28,28)))\n",
        "small_dataset = small_dataset/255\n",
        "label = np.arange(10)"
      ],
      "execution_count": 156,
      "outputs": []
    },
    {
      "cell_type": "code",
      "metadata": {
        "id": "WuDJ3jp4sx-s",
        "colab": {
          "base_uri": "https://localhost:8080/",
          "height": 1000
        },
        "outputId": "826cf726-10dd-4cd7-f5d8-5cd7668e2013"
      },
      "source": [
        "for x in small_dataset:\n",
        "  plt.imshow(x)\n",
        "  plt.show()\n"
      ],
      "execution_count": 72,
      "outputs": [
        {
          "output_type": "display_data",
          "data": {
            "image/png": "[encoded data removed]",
            "text/plain": [
              "<Figure size 432x288 with 1 Axes>"
            ]
          },
          "metadata": {
            "needs_background": "light"
          }
        },
        {
          "output_type": "display_data",
          "data": {
            "image/png": "[encoded data removed]",
            "text/plain": [
              "<Figure size 432x288 with 1 Axes>"
            ]
          },
          "metadata": {
            "needs_background": "light"
          }
        },
        {
          "output_type": "display_data",
          "data": {
            "image/png": "[encoded data removed]",
            "text/plain": [
              "<Figure size 432x288 with 1 Axes>"
            ]
          },
          "metadata": {
            "needs_background": "light"
          }
        },
        {
          "output_type": "display_data",
          "data": {
            "image/png": "[encoded data removed]",
            "text/plain": [
              "<Figure size 432x288 with 1 Axes>"
            ]
          },
          "metadata": {
            "needs_background": "light"
          }
        },
        {
          "output_type": "display_data",
          "data": {
            "image/png": "[encoded data removed]",
            "text/plain": [
              "<Figure size 432x288 with 1 Axes>"
            ]
          },
          "metadata": {
            "needs_background": "light"
          }
        },
        {
          "output_type": "display_data",
          "data": {
            "image/png": "[encoded data removed]",
            "text/plain": [
              "<Figure size 432x288 with 1 Axes>"
            ]
          },
          "metadata": {
            "needs_background": "light"
          }
        },
        {
          "output_type": "display_data",
          "data": {
            "image/png": "[encoded data removed]",
            "text/plain": [
              "<Figure size 432x288 with 1 Axes>"
            ]
          },
          "metadata": {
            "needs_background": "light"
          }
        },
        {
          "output_type": "display_data",
          "data": {
            "image/png": "[encoded data removed]",
            "text/plain": [
              "<Figure size 432x288 with 1 Axes>"
            ]
          },
          "metadata": {
            "needs_background": "light"
          }
        },
        {
          "output_type": "display_data",
          "data": {
            "image/png": "[encoded data removed]",
            "text/plain": [
              "<Figure size 432x288 with 1 Axes>"
            ]
          },
          "metadata": {
            "needs_background": "light"
          }
        },
        {
          "output_type": "display_data",
          "data": {
            "image/png": "[encoded data removed]",
            "text/plain": [
              "<Figure size 432x288 with 1 Axes>"
            ]
          },
          "metadata": {
            "needs_background": "light"
          }
        }
      ]
    },
    {
      "cell_type": "markdown",
      "metadata": {
        "id": "csBP9nxbvSo-"
      },
      "source": [
        "Without Agumentation"
      ]
    },
    {
      "cell_type": "code",
      "metadata": {
        "colab": {
          "base_uri": "https://localhost:8080/"
        },
        "id": "xxnzaLloIDlf",
        "outputId": "a32ef333-6adc-43ef-defd-b0449ec4bd03"
      },
      "source": [
        "y=np.arange(10)\n",
        "pred = NN(small_dataset,y,test_X)\n",
        "Accuracy(test_y,pred)"
      ],
      "execution_count": 160,
      "outputs": [
        {
          "output_type": "execute_result",
          "data": {
            "text/plain": [
              "0.5099"
            ]
          },
          "metadata": {},
          "execution_count": 160
        }
      ]
    },
    {
      "cell_type": "markdown",
      "metadata": {
        "id": "A4ph_orcBV-H"
      },
      "source": [
        "Here we use less number hyperparameters instead of running for long time"
      ]
    },
    {
      "cell_type": "code",
      "metadata": {
        "colab": {
          "base_uri": "https://localhost:8080/"
        },
        "id": "FnDT-3kNtvoc",
        "outputId": "48af5a13-4a00-45d8-cedd-5f1ae67eaa97"
      },
      "source": [
        "sigma=0.2\n",
        "translation=np.array([0,0])\n",
        "rotate_ang = 60\n",
        "nagumentations=5\n",
        "augdata = small_dataset\n",
        "auglabel = label\n",
        "for i in range(nagumentations):\n",
        "  augdata = np.concatenate((augdata,(augTranslateBlurrRotate(small_dataset,i*translation,i*sigma,i*rotate_ang))))\n",
        "  auglabel = np.concatenate((auglabel,label))\n",
        "  pred = NN(augdata,auglabel,test_X)\n",
        "  acc=Accuracy(test_y,pred)\n",
        "  print('Accuracy with translation:'+str(translation*i)+'rotaion angle:'+str(rotate_ang*i)+'blurr with sigma:'+str(sigma*i)+' is :',acc) "
      ],
      "execution_count": 186,
      "outputs": [
        {
          "output_type": "stream",
          "name": "stdout",
          "text": [
            "Accuracy with translation:[0 0]rotaion angle:0blurr with sigma:0.0 is : 0.5099\n",
            "Accuracy with translation:[0 0]rotaion angle:60blurr with sigma:0.2 is : 0.5455\n",
            "Accuracy with translation:[0 0]rotaion angle:120blurr with sigma:0.4 is : 0.5575\n",
            "Accuracy with translation:[0 0]rotaion angle:180blurr with sigma:0.6000000000000001 is : 0.547\n",
            "Accuracy with translation:[0 0]rotaion angle:240blurr with sigma:0.8 is : 0.5256\n"
          ]
        }
      ]
    },
    {
      "cell_type": "markdown",
      "metadata": {
        "id": "03cUFrl0Ynbq"
      },
      "source": [
        "**Answer to Q)4** so the smallest data set that gives accuracy more than 50%  is 10 which contain each number only once."
      ]
    }
  ]
}